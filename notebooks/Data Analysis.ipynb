{
 "cells": [
  {
   "attachments": {},
   "cell_type": "markdown",
   "metadata": {},
   "source": [
    "# 1. Business Understanding"
   ]
  },
  {
   "attachments": {},
   "cell_type": "markdown",
   "metadata": {},
   "source": [
    "ABC Company operates an e-commerce platform and processes thousands of orders daily. To deliver these orders, ABC has partnered with several courier companies in India, which charge them based on the weight of the products and the distance between the warehouse and the customer’s delivery address.\n",
    "\n",
    "# 1.1 Main Objective\n",
    "\n",
    "- Check if the fees charged by the courier companies for each order are correct.\n",
    "\n",
    "# 1.2 Specific Objective\n",
    "\n",
    "- Compare the total weight of each order calculated using the SKU master with the weight stated by the courier company in their invoice.\n",
    "- Compare the warehouse PIN to all mappings, used to determine delivery area, is as the area reported by the courier company."
   ]
  },
  {
   "attachments": {},
   "cell_type": "markdown",
   "metadata": {},
   "source": [
    "# 2. Data Understanding"
   ]
  },
  {
   "attachments": {},
   "cell_type": "markdown",
   "metadata": {},
   "source": [
    "## 2.1 ABC Data\n",
    "\n",
    "ABC has data split 3 reports:\n",
    "\n",
    "1. Website Order\n",
    "2. Master SKU\n",
    "3. Warehouse PIN\n",
    "\n",
    "Website order report includes:\n",
    "- Order IDs\n",
    "- Product SKUs for each order\n",
    "\n",
    "Master SKU provides the gross weight of each product, which is needed to calculate the total weight of each order.\n",
    "\n",
    "Warehouse PIN  contains PINS for all India Pincode mappings.\n",
    "\n",
    "## 2.2 Courier Data\n",
    "\n",
    "Courier company invoices contain information such as:\n",
    "- AWB number\n",
    "- Order ID\n",
    "- Shipment weight\n",
    "- Warehouse pickup PIN\n",
    "- Customer delivery PIN\n",
    "- Delivery area\n",
    "- Charge per shipment and type of shipment.\n",
    "\n",
    "\n",
    "\n",
    "\n",
    "\n",
    "\n"
   ]
  },
  {
   "cell_type": "code",
   "execution_count": null,
   "metadata": {},
   "outputs": [],
   "source": []
  }
 ],
 "metadata": {
  "kernelspec": {
   "display_name": "base",
   "language": "python",
   "name": "python3"
  },
  "language_info": {
   "codemirror_mode": {
    "name": "ipython",
    "version": 3
   },
   "file_extension": ".py",
   "mimetype": "text/x-python",
   "name": "python",
   "nbconvert_exporter": "python",
   "pygments_lexer": "ipython3",
   "version": "3.10.9"
  },
  "orig_nbformat": 4
 },
 "nbformat": 4,
 "nbformat_minor": 2
}
