{
 "cells": [
  {
   "attachments": {},
   "cell_type": "markdown",
   "metadata": {},
   "source": [
    "# 1. Business Understanding"
   ]
  },
  {
   "attachments": {},
   "cell_type": "markdown",
   "metadata": {},
   "source": [
    "ABC Company operates an e-commerce platform and processes thousands of orders daily. To deliver these orders, ABC has partnered with several courier companies in India, which charge them based on the weight of the products and the distance between the warehouse and the customer’s delivery address.\n",
    "\n",
    "# 1.1 Main Objective\n",
    "\n",
    "- Check if the fees charged by the courier companies for each order are correct.\n",
    "\n",
    "# 1.2 Specific Objective\n",
    "\n",
    "- Compare the total weight of each order calculated using the SKU master with the weight stated by the courier company in their invoice.\n",
    "- Compare the warehouse PIN to all mappings, used to determine delivery area, is as the area reported by the courier company."
   ]
  },
  {
   "attachments": {},
   "cell_type": "markdown",
   "metadata": {},
   "source": [
    "# 2. Data Understanding"
   ]
  },
  {
   "attachments": {},
   "cell_type": "markdown",
   "metadata": {},
   "source": [
    "## 2.1 ABC Data\n",
    "\n",
    "ABC has data split 3 reports:\n",
    "\n",
    "1. Website Order\n",
    "2. Master SKU\n",
    "3. Warehouse PIN\n",
    "\n",
    "Website order report includes:\n",
    "- Order IDs\n",
    "- Product SKUs for each order\n",
    "\n",
    "Master SKU provides the gross weight of each product, which is needed to calculate the total weight of each order.\n",
    "\n",
    "Warehouse PIN  contains PINS for all India Pincode mappings.\n",
    "\n",
    "## 2.2 Courier Data\n",
    "\n",
    "Courier company invoices contain information such as:\n",
    "- AWB number\n",
    "- Order ID\n",
    "- Shipment weight\n",
    "- Warehouse pickup PIN\n",
    "- Customer delivery PIN\n",
    "- Delivery area\n",
    "- Charge per shipment and type of shipment.\n",
    "\n",
    "\n",
    "\n",
    "\n",
    "\n",
    "\n"
   ]
  },
  {
   "attachments": {},
   "cell_type": "markdown",
   "metadata": {},
   "source": [
    "# 3. Data Wrangling"
   ]
  },
  {
   "cell_type": "code",
   "execution_count": 2,
   "metadata": {},
   "outputs": [],
   "source": [
    "# importing libraries\n",
    "\n",
    "import pandas as pd"
   ]
  },
  {
   "cell_type": "code",
   "execution_count": 24,
   "metadata": {},
   "outputs": [],
   "source": [
    "# reading the data\n",
    "\n",
    "invoice = pd.read_csv(r'C:\\Users\\w.selen.KEEMBLT0011\\Desktop\\Mercy\\DataScience\\B2B Ecommerce Fraud\\data\\raw\\b2b\\Invoice.csv')\n",
    "sku_master = pd.read_csv(r'C:\\Users\\w.selen.KEEMBLT0011\\Desktop\\Mercy\\DataScience\\B2B Ecommerce Fraud\\data\\raw\\b2b\\SKU Master.csv')\n",
    "pincodes = pd.read_csv(r'C:\\Users\\w.selen.KEEMBLT0011\\Desktop\\Mercy\\DataScience\\B2B Ecommerce Fraud\\data\\raw\\b2b\\pincodes.csv')\n",
    "order_report = pd.read_csv(r'C:\\Users\\w.selen.KEEMBLT0011\\Desktop\\Mercy\\DataScience\\B2B Ecommerce Fraud\\data\\raw\\b2b\\Order Report.csv')\n",
    "courier_rates = pd.read_csv(r'C:\\Users\\w.selen.KEEMBLT0011\\Desktop\\Mercy\\DataScience\\B2B Ecommerce Fraud\\data\\raw\\b2b\\Courier Company - Rates.csv')"
   ]
  },
  {
   "attachments": {},
   "cell_type": "markdown",
   "metadata": {},
   "source": [
    "## 3.1 Invoice Dataset"
   ]
  },
  {
   "cell_type": "code",
   "execution_count": 25,
   "metadata": {},
   "outputs": [
    {
     "data": {
      "text/html": [
       "<div>\n",
       "<style scoped>\n",
       "    .dataframe tbody tr th:only-of-type {\n",
       "        vertical-align: middle;\n",
       "    }\n",
       "\n",
       "    .dataframe tbody tr th {\n",
       "        vertical-align: top;\n",
       "    }\n",
       "\n",
       "    .dataframe thead th {\n",
       "        text-align: right;\n",
       "    }\n",
       "</style>\n",
       "<table border=\"1\" class=\"dataframe\">\n",
       "  <thead>\n",
       "    <tr style=\"text-align: right;\">\n",
       "      <th></th>\n",
       "      <th>AWB Code</th>\n",
       "      <th>Order ID</th>\n",
       "      <th>Charged Weight</th>\n",
       "      <th>Warehouse Pincode</th>\n",
       "      <th>Customer Pincode</th>\n",
       "      <th>Zone</th>\n",
       "      <th>Type of Shipment</th>\n",
       "      <th>Billing Amount (Rs.)</th>\n",
       "    </tr>\n",
       "  </thead>\n",
       "  <tbody>\n",
       "    <tr>\n",
       "      <th>0</th>\n",
       "      <td>1091117222124</td>\n",
       "      <td>2001806232</td>\n",
       "      <td>1.30</td>\n",
       "      <td>121003</td>\n",
       "      <td>507101</td>\n",
       "      <td>d</td>\n",
       "      <td>Forward charges</td>\n",
       "      <td>135.0</td>\n",
       "    </tr>\n",
       "    <tr>\n",
       "      <th>1</th>\n",
       "      <td>1091117222194</td>\n",
       "      <td>2001806273</td>\n",
       "      <td>1.00</td>\n",
       "      <td>121003</td>\n",
       "      <td>486886</td>\n",
       "      <td>d</td>\n",
       "      <td>Forward charges</td>\n",
       "      <td>90.2</td>\n",
       "    </tr>\n",
       "    <tr>\n",
       "      <th>2</th>\n",
       "      <td>1091117222931</td>\n",
       "      <td>2001806408</td>\n",
       "      <td>2.50</td>\n",
       "      <td>121003</td>\n",
       "      <td>532484</td>\n",
       "      <td>d</td>\n",
       "      <td>Forward charges</td>\n",
       "      <td>224.6</td>\n",
       "    </tr>\n",
       "    <tr>\n",
       "      <th>3</th>\n",
       "      <td>1091117223244</td>\n",
       "      <td>2001806458</td>\n",
       "      <td>1.00</td>\n",
       "      <td>121003</td>\n",
       "      <td>143001</td>\n",
       "      <td>b</td>\n",
       "      <td>Forward charges</td>\n",
       "      <td>61.3</td>\n",
       "    </tr>\n",
       "    <tr>\n",
       "      <th>4</th>\n",
       "      <td>1091117229345</td>\n",
       "      <td>2001807012</td>\n",
       "      <td>0.15</td>\n",
       "      <td>121003</td>\n",
       "      <td>515591</td>\n",
       "      <td>d</td>\n",
       "      <td>Forward charges</td>\n",
       "      <td>45.4</td>\n",
       "    </tr>\n",
       "  </tbody>\n",
       "</table>\n",
       "</div>"
      ],
      "text/plain": [
       "        AWB Code    Order ID  Charged Weight  Warehouse Pincode  \\\n",
       "0  1091117222124  2001806232            1.30             121003   \n",
       "1  1091117222194  2001806273            1.00             121003   \n",
       "2  1091117222931  2001806408            2.50             121003   \n",
       "3  1091117223244  2001806458            1.00             121003   \n",
       "4  1091117229345  2001807012            0.15             121003   \n",
       "\n",
       "   Customer Pincode Zone Type of Shipment  Billing Amount (Rs.)  \n",
       "0            507101    d  Forward charges                 135.0  \n",
       "1            486886    d  Forward charges                  90.2  \n",
       "2            532484    d  Forward charges                 224.6  \n",
       "3            143001    b  Forward charges                  61.3  \n",
       "4            515591    d  Forward charges                  45.4  "
      ]
     },
     "execution_count": 25,
     "metadata": {},
     "output_type": "execute_result"
    }
   ],
   "source": [
    "# previewing the data\n",
    "\n",
    "invoice.head()"
   ]
  },
  {
   "cell_type": "code",
   "execution_count": 42,
   "metadata": {},
   "outputs": [
    {
     "name": "stdout",
     "output_type": "stream",
     "text": [
      "The data has 124 rows and 8 columns\n"
     ]
    }
   ],
   "source": [
    "# checking the shape of the data\n",
    "\n",
    "print(f\"The data has {invoice.shape[0]} rows and {invoice.shape[1]} columns\")"
   ]
  },
  {
   "cell_type": "code",
   "execution_count": 43,
   "metadata": {},
   "outputs": [
    {
     "name": "stdout",
     "output_type": "stream",
     "text": [
      "<class 'pandas.core.frame.DataFrame'>\n",
      "RangeIndex: 124 entries, 0 to 123\n",
      "Data columns (total 8 columns):\n",
      " #   Column                Non-Null Count  Dtype  \n",
      "---  ------                --------------  -----  \n",
      " 0   AWB Code              124 non-null    int64  \n",
      " 1   Order ID              124 non-null    int64  \n",
      " 2   Charged Weight        124 non-null    float64\n",
      " 3   Warehouse Pincode     124 non-null    int64  \n",
      " 4   Customer Pincode      124 non-null    int64  \n",
      " 5   Zone                  124 non-null    object \n",
      " 6   Type of Shipment      124 non-null    object \n",
      " 7   Billing Amount (Rs.)  124 non-null    float64\n",
      "dtypes: float64(2), int64(4), object(2)\n",
      "memory usage: 7.9+ KB\n"
     ]
    }
   ],
   "source": [
    "# checking the data types of the data\n",
    "\n",
    "invoice.info()"
   ]
  },
  {
   "attachments": {},
   "cell_type": "markdown",
   "metadata": {},
   "source": [
    "- The data has 6 numeric columns, with 2 having floats and 4 having integers. The data has 2 columns with objects"
   ]
  },
  {
   "cell_type": "code",
   "execution_count": 44,
   "metadata": {},
   "outputs": [
    {
     "data": {
      "text/html": [
       "<div>\n",
       "<style scoped>\n",
       "    .dataframe tbody tr th:only-of-type {\n",
       "        vertical-align: middle;\n",
       "    }\n",
       "\n",
       "    .dataframe tbody tr th {\n",
       "        vertical-align: top;\n",
       "    }\n",
       "\n",
       "    .dataframe thead th {\n",
       "        text-align: right;\n",
       "    }\n",
       "</style>\n",
       "<table border=\"1\" class=\"dataframe\">\n",
       "  <thead>\n",
       "    <tr style=\"text-align: right;\">\n",
       "      <th></th>\n",
       "      <th>AWB Code</th>\n",
       "      <th>Order ID</th>\n",
       "      <th>Charged Weight</th>\n",
       "      <th>Warehouse Pincode</th>\n",
       "      <th>Customer Pincode</th>\n",
       "      <th>Billing Amount (Rs.)</th>\n",
       "    </tr>\n",
       "  </thead>\n",
       "  <tbody>\n",
       "    <tr>\n",
       "      <th>count</th>\n",
       "      <td>1.240000e+02</td>\n",
       "      <td>1.240000e+02</td>\n",
       "      <td>124.000000</td>\n",
       "      <td>124.0</td>\n",
       "      <td>124.000000</td>\n",
       "      <td>124.000000</td>\n",
       "    </tr>\n",
       "    <tr>\n",
       "      <th>mean</th>\n",
       "      <td>1.091118e+12</td>\n",
       "      <td>2.001811e+09</td>\n",
       "      <td>0.956048</td>\n",
       "      <td>121003.0</td>\n",
       "      <td>365488.072581</td>\n",
       "      <td>110.066129</td>\n",
       "    </tr>\n",
       "    <tr>\n",
       "      <th>std</th>\n",
       "      <td>1.473661e+06</td>\n",
       "      <td>5.167329e+03</td>\n",
       "      <td>0.662815</td>\n",
       "      <td>0.0</td>\n",
       "      <td>152156.322130</td>\n",
       "      <td>64.060832</td>\n",
       "    </tr>\n",
       "    <tr>\n",
       "      <th>min</th>\n",
       "      <td>1.091117e+12</td>\n",
       "      <td>2.001806e+09</td>\n",
       "      <td>0.150000</td>\n",
       "      <td>121003.0</td>\n",
       "      <td>140301.000000</td>\n",
       "      <td>33.000000</td>\n",
       "    </tr>\n",
       "    <tr>\n",
       "      <th>25%</th>\n",
       "      <td>1.091117e+12</td>\n",
       "      <td>2.001807e+09</td>\n",
       "      <td>0.667500</td>\n",
       "      <td>121003.0</td>\n",
       "      <td>302017.000000</td>\n",
       "      <td>86.700000</td>\n",
       "    </tr>\n",
       "    <tr>\n",
       "      <th>50%</th>\n",
       "      <td>1.091117e+12</td>\n",
       "      <td>2.001809e+09</td>\n",
       "      <td>0.725000</td>\n",
       "      <td>121003.0</td>\n",
       "      <td>321304.500000</td>\n",
       "      <td>90.200000</td>\n",
       "    </tr>\n",
       "    <tr>\n",
       "      <th>75%</th>\n",
       "      <td>1.091119e+12</td>\n",
       "      <td>2.001812e+09</td>\n",
       "      <td>1.100000</td>\n",
       "      <td>121003.0</td>\n",
       "      <td>405102.250000</td>\n",
       "      <td>135.000000</td>\n",
       "    </tr>\n",
       "    <tr>\n",
       "      <th>max</th>\n",
       "      <td>1.091122e+12</td>\n",
       "      <td>2.001827e+09</td>\n",
       "      <td>4.130000</td>\n",
       "      <td>121003.0</td>\n",
       "      <td>845438.000000</td>\n",
       "      <td>403.800000</td>\n",
       "    </tr>\n",
       "  </tbody>\n",
       "</table>\n",
       "</div>"
      ],
      "text/plain": [
       "           AWB Code      Order ID  Charged Weight  Warehouse Pincode  \\\n",
       "count  1.240000e+02  1.240000e+02      124.000000              124.0   \n",
       "mean   1.091118e+12  2.001811e+09        0.956048           121003.0   \n",
       "std    1.473661e+06  5.167329e+03        0.662815                0.0   \n",
       "min    1.091117e+12  2.001806e+09        0.150000           121003.0   \n",
       "25%    1.091117e+12  2.001807e+09        0.667500           121003.0   \n",
       "50%    1.091117e+12  2.001809e+09        0.725000           121003.0   \n",
       "75%    1.091119e+12  2.001812e+09        1.100000           121003.0   \n",
       "max    1.091122e+12  2.001827e+09        4.130000           121003.0   \n",
       "\n",
       "       Customer Pincode  Billing Amount (Rs.)  \n",
       "count        124.000000            124.000000  \n",
       "mean      365488.072581            110.066129  \n",
       "std       152156.322130             64.060832  \n",
       "min       140301.000000             33.000000  \n",
       "25%       302017.000000             86.700000  \n",
       "50%       321304.500000             90.200000  \n",
       "75%       405102.250000            135.000000  \n",
       "max       845438.000000            403.800000  "
      ]
     },
     "execution_count": 44,
     "metadata": {},
     "output_type": "execute_result"
    }
   ],
   "source": [
    "# looking at the statistics of the different columns\n",
    "\n",
    "invoice.describe()"
   ]
  },
  {
   "attachments": {},
   "cell_type": "markdown",
   "metadata": {},
   "source": [
    "### 3.1.1 Data Cleaning"
   ]
  },
  {
   "attachments": {},
   "cell_type": "markdown",
   "metadata": {},
   "source": [
    "#### 3.1.1.1 Data Completeness"
   ]
  },
  {
   "cell_type": "code",
   "execution_count": 45,
   "metadata": {},
   "outputs": [
    {
     "data": {
      "text/plain": [
       "AWB Code                0\n",
       "Order ID                0\n",
       "Charged Weight          0\n",
       "Warehouse Pincode       0\n",
       "Customer Pincode        0\n",
       "Zone                    0\n",
       "Type of Shipment        0\n",
       "Billing Amount (Rs.)    0\n",
       "dtype: int64"
      ]
     },
     "execution_count": 45,
     "metadata": {},
     "output_type": "execute_result"
    }
   ],
   "source": [
    "# checking if the data has any missing values\n",
    "\n",
    "invoice.isna().sum()"
   ]
  },
  {
   "attachments": {},
   "cell_type": "markdown",
   "metadata": {},
   "source": [
    "- The data has no missing values"
   ]
  },
  {
   "attachments": {},
   "cell_type": "markdown",
   "metadata": {},
   "source": [
    "#### 3.1.1.2 Data Consistency"
   ]
  },
  {
   "cell_type": "code",
   "execution_count": 48,
   "metadata": {},
   "outputs": [
    {
     "name": "stdout",
     "output_type": "stream",
     "text": [
      "The data has 0 duplicate rows\n"
     ]
    }
   ],
   "source": [
    "# Checking if the data has any duplicates\n",
    "\n",
    "print(f\"The data has {invoice.duplicated().sum()} duplicate rows\")"
   ]
  },
  {
   "attachments": {},
   "cell_type": "markdown",
   "metadata": {},
   "source": [
    "#### 3.1.1.3 Data Uniformity"
   ]
  },
  {
   "cell_type": "code",
   "execution_count": 56,
   "metadata": {},
   "outputs": [
    {
     "data": {
      "text/plain": [
       "AWB Code                124\n",
       "Order ID                124\n",
       "Charged Weight           54\n",
       "Warehouse Pincode         1\n",
       "Customer Pincode        108\n",
       "Zone                      3\n",
       "Type of Shipment          2\n",
       "Billing Amount (Rs.)     20\n",
       "dtype: int64"
      ]
     },
     "execution_count": 56,
     "metadata": {},
     "output_type": "execute_result"
    }
   ],
   "source": [
    "# checking unique values per column\n",
    "\n",
    "invoice.nunique()"
   ]
  },
  {
   "attachments": {},
   "cell_type": "markdown",
   "metadata": {},
   "source": [
    "- It can be noted that `Warehouse Pincode` only has one entry, hence, can be converted to an object data type"
   ]
  },
  {
   "cell_type": "code",
   "execution_count": 59,
   "metadata": {},
   "outputs": [],
   "source": [
    "# converting column to object data type\n",
    "\n",
    "invoice['Warehouse Pincode'] = invoice['Warehouse Pincode'].astype(object)"
   ]
  },
  {
   "cell_type": "code",
   "execution_count": 62,
   "metadata": {},
   "outputs": [
    {
     "data": {
      "text/html": [
       "<div>\n",
       "<style scoped>\n",
       "    .dataframe tbody tr th:only-of-type {\n",
       "        vertical-align: middle;\n",
       "    }\n",
       "\n",
       "    .dataframe tbody tr th {\n",
       "        vertical-align: top;\n",
       "    }\n",
       "\n",
       "    .dataframe thead th {\n",
       "        text-align: right;\n",
       "    }\n",
       "</style>\n",
       "<table border=\"1\" class=\"dataframe\">\n",
       "  <thead>\n",
       "    <tr style=\"text-align: right;\">\n",
       "      <th></th>\n",
       "      <th>AWB Code</th>\n",
       "      <th>Order ID</th>\n",
       "      <th>Charged Weight</th>\n",
       "      <th>Warehouse Pincode</th>\n",
       "      <th>Customer Pincode</th>\n",
       "      <th>Zone</th>\n",
       "      <th>Type of Shipment</th>\n",
       "      <th>Billing Amount (Rs.)</th>\n",
       "    </tr>\n",
       "  </thead>\n",
       "  <tbody>\n",
       "    <tr>\n",
       "      <th>0</th>\n",
       "      <td>1091117222124</td>\n",
       "      <td>2001806232</td>\n",
       "      <td>1.30</td>\n",
       "      <td>121003</td>\n",
       "      <td>507101</td>\n",
       "      <td>d</td>\n",
       "      <td>Forward charges</td>\n",
       "      <td>135.0</td>\n",
       "    </tr>\n",
       "    <tr>\n",
       "      <th>1</th>\n",
       "      <td>1091117222194</td>\n",
       "      <td>2001806273</td>\n",
       "      <td>1.00</td>\n",
       "      <td>121003</td>\n",
       "      <td>486886</td>\n",
       "      <td>d</td>\n",
       "      <td>Forward charges</td>\n",
       "      <td>90.2</td>\n",
       "    </tr>\n",
       "    <tr>\n",
       "      <th>2</th>\n",
       "      <td>1091117222931</td>\n",
       "      <td>2001806408</td>\n",
       "      <td>2.50</td>\n",
       "      <td>121003</td>\n",
       "      <td>532484</td>\n",
       "      <td>d</td>\n",
       "      <td>Forward charges</td>\n",
       "      <td>224.6</td>\n",
       "    </tr>\n",
       "    <tr>\n",
       "      <th>3</th>\n",
       "      <td>1091117223244</td>\n",
       "      <td>2001806458</td>\n",
       "      <td>1.00</td>\n",
       "      <td>121003</td>\n",
       "      <td>143001</td>\n",
       "      <td>b</td>\n",
       "      <td>Forward charges</td>\n",
       "      <td>61.3</td>\n",
       "    </tr>\n",
       "    <tr>\n",
       "      <th>4</th>\n",
       "      <td>1091117229345</td>\n",
       "      <td>2001807012</td>\n",
       "      <td>0.15</td>\n",
       "      <td>121003</td>\n",
       "      <td>515591</td>\n",
       "      <td>d</td>\n",
       "      <td>Forward charges</td>\n",
       "      <td>45.4</td>\n",
       "    </tr>\n",
       "  </tbody>\n",
       "</table>\n",
       "</div>"
      ],
      "text/plain": [
       "        AWB Code    Order ID  Charged Weight Warehouse Pincode  \\\n",
       "0  1091117222124  2001806232            1.30            121003   \n",
       "1  1091117222194  2001806273            1.00            121003   \n",
       "2  1091117222931  2001806408            2.50            121003   \n",
       "3  1091117223244  2001806458            1.00            121003   \n",
       "4  1091117229345  2001807012            0.15            121003   \n",
       "\n",
       "   Customer Pincode Zone Type of Shipment  Billing Amount (Rs.)  \n",
       "0            507101    d  Forward charges                 135.0  \n",
       "1            486886    d  Forward charges                  90.2  \n",
       "2            532484    d  Forward charges                 224.6  \n",
       "3            143001    b  Forward charges                  61.3  \n",
       "4            515591    d  Forward charges                  45.4  "
      ]
     },
     "execution_count": 62,
     "metadata": {},
     "output_type": "execute_result"
    }
   ],
   "source": [
    "invoice.head()"
   ]
  },
  {
   "attachments": {},
   "cell_type": "markdown",
   "metadata": {},
   "source": [
    "## 3.2 Master SKU Dataset"
   ]
  },
  {
   "cell_type": "code",
   "execution_count": 26,
   "metadata": {},
   "outputs": [
    {
     "data": {
      "text/html": [
       "<div>\n",
       "<style scoped>\n",
       "    .dataframe tbody tr th:only-of-type {\n",
       "        vertical-align: middle;\n",
       "    }\n",
       "\n",
       "    .dataframe tbody tr th {\n",
       "        vertical-align: top;\n",
       "    }\n",
       "\n",
       "    .dataframe thead th {\n",
       "        text-align: right;\n",
       "    }\n",
       "</style>\n",
       "<table border=\"1\" class=\"dataframe\">\n",
       "  <thead>\n",
       "    <tr style=\"text-align: right;\">\n",
       "      <th></th>\n",
       "      <th>SKU</th>\n",
       "      <th>Weight (g)</th>\n",
       "      <th>Unnamed: 2</th>\n",
       "      <th>Unnamed: 3</th>\n",
       "      <th>Unnamed: 4</th>\n",
       "    </tr>\n",
       "  </thead>\n",
       "  <tbody>\n",
       "    <tr>\n",
       "      <th>0</th>\n",
       "      <td>8904223815682</td>\n",
       "      <td>210</td>\n",
       "      <td>NaN</td>\n",
       "      <td>NaN</td>\n",
       "      <td>NaN</td>\n",
       "    </tr>\n",
       "    <tr>\n",
       "      <th>1</th>\n",
       "      <td>8904223815859</td>\n",
       "      <td>165</td>\n",
       "      <td>NaN</td>\n",
       "      <td>NaN</td>\n",
       "      <td>NaN</td>\n",
       "    </tr>\n",
       "    <tr>\n",
       "      <th>2</th>\n",
       "      <td>8904223815866</td>\n",
       "      <td>113</td>\n",
       "      <td>NaN</td>\n",
       "      <td>NaN</td>\n",
       "      <td>NaN</td>\n",
       "    </tr>\n",
       "    <tr>\n",
       "      <th>3</th>\n",
       "      <td>8904223815873</td>\n",
       "      <td>65</td>\n",
       "      <td>NaN</td>\n",
       "      <td>NaN</td>\n",
       "      <td>NaN</td>\n",
       "    </tr>\n",
       "    <tr>\n",
       "      <th>4</th>\n",
       "      <td>8904223816214</td>\n",
       "      <td>120</td>\n",
       "      <td>NaN</td>\n",
       "      <td>NaN</td>\n",
       "      <td>NaN</td>\n",
       "    </tr>\n",
       "  </tbody>\n",
       "</table>\n",
       "</div>"
      ],
      "text/plain": [
       "             SKU  Weight (g)  Unnamed: 2  Unnamed: 3  Unnamed: 4\n",
       "0  8904223815682         210         NaN         NaN         NaN\n",
       "1  8904223815859         165         NaN         NaN         NaN\n",
       "2  8904223815866         113         NaN         NaN         NaN\n",
       "3  8904223815873          65         NaN         NaN         NaN\n",
       "4  8904223816214         120         NaN         NaN         NaN"
      ]
     },
     "execution_count": 26,
     "metadata": {},
     "output_type": "execute_result"
    }
   ],
   "source": [
    "sku_master.head()"
   ]
  },
  {
   "attachments": {},
   "cell_type": "markdown",
   "metadata": {},
   "source": [
    "## 3.3 Pincodes Dataset"
   ]
  },
  {
   "cell_type": "code",
   "execution_count": 27,
   "metadata": {},
   "outputs": [
    {
     "data": {
      "text/html": [
       "<div>\n",
       "<style scoped>\n",
       "    .dataframe tbody tr th:only-of-type {\n",
       "        vertical-align: middle;\n",
       "    }\n",
       "\n",
       "    .dataframe tbody tr th {\n",
       "        vertical-align: top;\n",
       "    }\n",
       "\n",
       "    .dataframe thead th {\n",
       "        text-align: right;\n",
       "    }\n",
       "</style>\n",
       "<table border=\"1\" class=\"dataframe\">\n",
       "  <thead>\n",
       "    <tr style=\"text-align: right;\">\n",
       "      <th></th>\n",
       "      <th>Warehouse Pincode</th>\n",
       "      <th>Customer Pincode</th>\n",
       "      <th>Zone</th>\n",
       "      <th>Unnamed: 3</th>\n",
       "      <th>Unnamed: 4</th>\n",
       "    </tr>\n",
       "  </thead>\n",
       "  <tbody>\n",
       "    <tr>\n",
       "      <th>0</th>\n",
       "      <td>121003</td>\n",
       "      <td>507101</td>\n",
       "      <td>d</td>\n",
       "      <td>NaN</td>\n",
       "      <td>NaN</td>\n",
       "    </tr>\n",
       "    <tr>\n",
       "      <th>1</th>\n",
       "      <td>121003</td>\n",
       "      <td>486886</td>\n",
       "      <td>d</td>\n",
       "      <td>NaN</td>\n",
       "      <td>NaN</td>\n",
       "    </tr>\n",
       "    <tr>\n",
       "      <th>2</th>\n",
       "      <td>121003</td>\n",
       "      <td>532484</td>\n",
       "      <td>d</td>\n",
       "      <td>NaN</td>\n",
       "      <td>NaN</td>\n",
       "    </tr>\n",
       "    <tr>\n",
       "      <th>3</th>\n",
       "      <td>121003</td>\n",
       "      <td>143001</td>\n",
       "      <td>b</td>\n",
       "      <td>NaN</td>\n",
       "      <td>NaN</td>\n",
       "    </tr>\n",
       "    <tr>\n",
       "      <th>4</th>\n",
       "      <td>121003</td>\n",
       "      <td>515591</td>\n",
       "      <td>d</td>\n",
       "      <td>NaN</td>\n",
       "      <td>NaN</td>\n",
       "    </tr>\n",
       "  </tbody>\n",
       "</table>\n",
       "</div>"
      ],
      "text/plain": [
       "   Warehouse Pincode  Customer Pincode Zone  Unnamed: 3  Unnamed: 4\n",
       "0             121003            507101    d         NaN         NaN\n",
       "1             121003            486886    d         NaN         NaN\n",
       "2             121003            532484    d         NaN         NaN\n",
       "3             121003            143001    b         NaN         NaN\n",
       "4             121003            515591    d         NaN         NaN"
      ]
     },
     "execution_count": 27,
     "metadata": {},
     "output_type": "execute_result"
    }
   ],
   "source": [
    "pincodes.head()"
   ]
  },
  {
   "attachments": {},
   "cell_type": "markdown",
   "metadata": {},
   "source": [
    "## 3.4 Order Report Dataset"
   ]
  },
  {
   "cell_type": "code",
   "execution_count": 28,
   "metadata": {},
   "outputs": [
    {
     "data": {
      "text/html": [
       "<div>\n",
       "<style scoped>\n",
       "    .dataframe tbody tr th:only-of-type {\n",
       "        vertical-align: middle;\n",
       "    }\n",
       "\n",
       "    .dataframe tbody tr th {\n",
       "        vertical-align: top;\n",
       "    }\n",
       "\n",
       "    .dataframe thead th {\n",
       "        text-align: right;\n",
       "    }\n",
       "</style>\n",
       "<table border=\"1\" class=\"dataframe\">\n",
       "  <thead>\n",
       "    <tr style=\"text-align: right;\">\n",
       "      <th></th>\n",
       "      <th>ExternOrderNo</th>\n",
       "      <th>SKU</th>\n",
       "      <th>Order Qty</th>\n",
       "      <th>Unnamed: 3</th>\n",
       "      <th>Unnamed: 4</th>\n",
       "    </tr>\n",
       "  </thead>\n",
       "  <tbody>\n",
       "    <tr>\n",
       "      <th>0</th>\n",
       "      <td>2001827036</td>\n",
       "      <td>8904223818706</td>\n",
       "      <td>1.0</td>\n",
       "      <td>NaN</td>\n",
       "      <td>NaN</td>\n",
       "    </tr>\n",
       "    <tr>\n",
       "      <th>1</th>\n",
       "      <td>2001827036</td>\n",
       "      <td>8904223819093</td>\n",
       "      <td>1.0</td>\n",
       "      <td>NaN</td>\n",
       "      <td>NaN</td>\n",
       "    </tr>\n",
       "    <tr>\n",
       "      <th>2</th>\n",
       "      <td>2001827036</td>\n",
       "      <td>8904223819109</td>\n",
       "      <td>1.0</td>\n",
       "      <td>NaN</td>\n",
       "      <td>NaN</td>\n",
       "    </tr>\n",
       "    <tr>\n",
       "      <th>3</th>\n",
       "      <td>2001827036</td>\n",
       "      <td>8904223818430</td>\n",
       "      <td>1.0</td>\n",
       "      <td>NaN</td>\n",
       "      <td>NaN</td>\n",
       "    </tr>\n",
       "    <tr>\n",
       "      <th>4</th>\n",
       "      <td>2001827036</td>\n",
       "      <td>8904223819277</td>\n",
       "      <td>1.0</td>\n",
       "      <td>NaN</td>\n",
       "      <td>NaN</td>\n",
       "    </tr>\n",
       "  </tbody>\n",
       "</table>\n",
       "</div>"
      ],
      "text/plain": [
       "   ExternOrderNo            SKU  Order Qty  Unnamed: 3  Unnamed: 4\n",
       "0     2001827036  8904223818706        1.0         NaN         NaN\n",
       "1     2001827036  8904223819093        1.0         NaN         NaN\n",
       "2     2001827036  8904223819109        1.0         NaN         NaN\n",
       "3     2001827036  8904223818430        1.0         NaN         NaN\n",
       "4     2001827036  8904223819277        1.0         NaN         NaN"
      ]
     },
     "execution_count": 28,
     "metadata": {},
     "output_type": "execute_result"
    }
   ],
   "source": [
    "order_report.head()"
   ]
  },
  {
   "attachments": {},
   "cell_type": "markdown",
   "metadata": {},
   "source": [
    "## 3.5 Courier Dataset"
   ]
  },
  {
   "cell_type": "code",
   "execution_count": 29,
   "metadata": {},
   "outputs": [
    {
     "data": {
      "text/html": [
       "<div>\n",
       "<style scoped>\n",
       "    .dataframe tbody tr th:only-of-type {\n",
       "        vertical-align: middle;\n",
       "    }\n",
       "\n",
       "    .dataframe tbody tr th {\n",
       "        vertical-align: top;\n",
       "    }\n",
       "\n",
       "    .dataframe thead th {\n",
       "        text-align: right;\n",
       "    }\n",
       "</style>\n",
       "<table border=\"1\" class=\"dataframe\">\n",
       "  <thead>\n",
       "    <tr style=\"text-align: right;\">\n",
       "      <th></th>\n",
       "      <th>fwd_a_fixed</th>\n",
       "      <th>fwd_a_additional</th>\n",
       "      <th>fwd_b_fixed</th>\n",
       "      <th>fwd_b_additional</th>\n",
       "      <th>fwd_c_fixed</th>\n",
       "      <th>fwd_c_additional</th>\n",
       "      <th>fwd_d_fixed</th>\n",
       "      <th>fwd_d_additional</th>\n",
       "      <th>fwd_e_fixed</th>\n",
       "      <th>fwd_e_additional</th>\n",
       "      <th>rto_a_fixed</th>\n",
       "      <th>rto_a_additional</th>\n",
       "      <th>rto_b_fixed</th>\n",
       "      <th>rto_b_additional</th>\n",
       "      <th>rto_c_fixed</th>\n",
       "      <th>rto_c_additional</th>\n",
       "      <th>rto_d_fixed</th>\n",
       "      <th>rto_d_additional</th>\n",
       "      <th>rto_e_fixed</th>\n",
       "      <th>rto_e_additional</th>\n",
       "    </tr>\n",
       "  </thead>\n",
       "  <tbody>\n",
       "    <tr>\n",
       "      <th>0</th>\n",
       "      <td>29.5</td>\n",
       "      <td>23.6</td>\n",
       "      <td>33</td>\n",
       "      <td>28.3</td>\n",
       "      <td>40.1</td>\n",
       "      <td>38.9</td>\n",
       "      <td>45.4</td>\n",
       "      <td>44.8</td>\n",
       "      <td>56.6</td>\n",
       "      <td>55.5</td>\n",
       "      <td>13.6</td>\n",
       "      <td>23.6</td>\n",
       "      <td>20.5</td>\n",
       "      <td>28.3</td>\n",
       "      <td>31.9</td>\n",
       "      <td>38.9</td>\n",
       "      <td>41.3</td>\n",
       "      <td>44.8</td>\n",
       "      <td>50.7</td>\n",
       "      <td>55.5</td>\n",
       "    </tr>\n",
       "  </tbody>\n",
       "</table>\n",
       "</div>"
      ],
      "text/plain": [
       "   fwd_a_fixed  fwd_a_additional  fwd_b_fixed  fwd_b_additional  fwd_c_fixed  \\\n",
       "0         29.5              23.6           33              28.3         40.1   \n",
       "\n",
       "   fwd_c_additional  fwd_d_fixed  fwd_d_additional  fwd_e_fixed  \\\n",
       "0              38.9         45.4              44.8         56.6   \n",
       "\n",
       "   fwd_e_additional  rto_a_fixed  rto_a_additional  rto_b_fixed  \\\n",
       "0              55.5         13.6              23.6         20.5   \n",
       "\n",
       "   rto_b_additional  rto_c_fixed  rto_c_additional  rto_d_fixed  \\\n",
       "0              28.3         31.9              38.9         41.3   \n",
       "\n",
       "   rto_d_additional  rto_e_fixed  rto_e_additional  \n",
       "0              44.8         50.7              55.5  "
      ]
     },
     "execution_count": 29,
     "metadata": {},
     "output_type": "execute_result"
    }
   ],
   "source": [
    "courier_rates.head()"
   ]
  },
  {
   "cell_type": "code",
   "execution_count": 30,
   "metadata": {},
   "outputs": [],
   "source": [
    "data = [invoice, sku_master, pincodes, order_report, courier_rates]"
   ]
  },
  {
   "cell_type": "code",
   "execution_count": 41,
   "metadata": {},
   "outputs": [
    {
     "name": "stdout",
     "output_type": "stream",
     "text": [
      "          AWB Code    Order ID  Charged Weight  Warehouse Pincode  \\\n",
      "0    1091117222124  2001806232            1.30             121003   \n",
      "1    1091117222194  2001806273            1.00             121003   \n",
      "2    1091117222931  2001806408            2.50             121003   \n",
      "3    1091117223244  2001806458            1.00             121003   \n",
      "4    1091117229345  2001807012            0.15             121003   \n",
      "..             ...         ...             ...                ...   \n",
      "119  1091118551656  2001812941            0.73             121003   \n",
      "120  1091117614452  2001809383            0.50             121003   \n",
      "121  1091120922803  2001820978            0.50             121003   \n",
      "122  1091121844806  2001811475            0.50             121003   \n",
      "123  1091121846136  2001811305            0.50             121003   \n",
      "\n",
      "     Customer Pincode Zone         Type of Shipment  Billing Amount (Rs.)  \n",
      "0              507101    d          Forward charges                 135.0  \n",
      "1              486886    d          Forward charges                  90.2  \n",
      "2              532484    d          Forward charges                 224.6  \n",
      "3              143001    b          Forward charges                  61.3  \n",
      "4              515591    d          Forward charges                  45.4  \n",
      "..                ...  ...                      ...                   ...  \n",
      "119            325207    d          Forward charges                  90.2  \n",
      "120            303702    d  Forward and RTO charges                  86.7  \n",
      "121            313301    d          Forward charges                  45.4  \n",
      "122            173212    b          Forward charges                  33.0  \n",
      "123            302020    d          Forward charges                  45.4  \n",
      "\n",
      "[124 rows x 8 columns]\n",
      "The data has 124 columns and  8 rows\n",
      "---------------------------------------------------\n",
      "              SKU  Weight (g)  Unnamed: 2  Unnamed: 3  Unnamed: 4\n",
      "0   8904223815682         210         NaN         NaN         NaN\n",
      "1   8904223815859         165         NaN         NaN         NaN\n",
      "2   8904223815866         113         NaN         NaN         NaN\n",
      "3   8904223815873          65         NaN         NaN         NaN\n",
      "4   8904223816214         120         NaN         NaN         NaN\n",
      "..            ...         ...         ...         ...         ...\n",
      "61  8904223819505         210         NaN         NaN         NaN\n",
      "62  8904223819499         210         NaN         NaN         NaN\n",
      "63  8904223819512         210         NaN         NaN         NaN\n",
      "64  8904223819543         300         NaN         NaN         NaN\n",
      "65     SACHETS001          10         NaN         NaN         NaN\n",
      "\n",
      "[66 rows x 5 columns]\n",
      "The data has 66 columns and  5 rows\n",
      "---------------------------------------------------\n",
      "     Warehouse Pincode  Customer Pincode Zone  Unnamed: 3  Unnamed: 4\n",
      "0               121003            507101    d         NaN         NaN\n",
      "1               121003            486886    d         NaN         NaN\n",
      "2               121003            532484    d         NaN         NaN\n",
      "3               121003            143001    b         NaN         NaN\n",
      "4               121003            515591    d         NaN         NaN\n",
      "..                 ...               ...  ...         ...         ...\n",
      "119             121003            325207    b         NaN         NaN\n",
      "120             121003            303702    b         NaN         NaN\n",
      "121             121003            313301    b         NaN         NaN\n",
      "122             121003            173212    e         NaN         NaN\n",
      "123             121003            302020    b         NaN         NaN\n",
      "\n",
      "[124 rows x 5 columns]\n",
      "The data has 124 columns and  5 rows\n",
      "---------------------------------------------------\n",
      "     ExternOrderNo            SKU  Order Qty  Unnamed: 3  Unnamed: 4\n",
      "0       2001827036  8904223818706        1.0         NaN         NaN\n",
      "1       2001827036  8904223819093        1.0         NaN         NaN\n",
      "2       2001827036  8904223819109        1.0         NaN         NaN\n",
      "3       2001827036  8904223818430        1.0         NaN         NaN\n",
      "4       2001827036  8904223819277        1.0         NaN         NaN\n",
      "..             ...            ...        ...         ...         ...\n",
      "395     2001806229  8904223818942        1.0         NaN         NaN\n",
      "396     2001806229  8904223818850        1.0         NaN         NaN\n",
      "397     2001806226  8904223818850        2.0         NaN         NaN\n",
      "398     2001806210  8904223816214        1.0         NaN         NaN\n",
      "399     2001806210  8904223818874        1.0         NaN         NaN\n",
      "\n",
      "[400 rows x 5 columns]\n",
      "The data has 400 columns and  5 rows\n",
      "---------------------------------------------------\n",
      "   fwd_a_fixed  fwd_a_additional  fwd_b_fixed  fwd_b_additional  fwd_c_fixed  \\\n",
      "0         29.5              23.6           33              28.3         40.1   \n",
      "\n",
      "   fwd_c_additional  fwd_d_fixed  fwd_d_additional  fwd_e_fixed  \\\n",
      "0              38.9         45.4              44.8         56.6   \n",
      "\n",
      "   fwd_e_additional  rto_a_fixed  rto_a_additional  rto_b_fixed  \\\n",
      "0              55.5         13.6              23.6         20.5   \n",
      "\n",
      "   rto_b_additional  rto_c_fixed  rto_c_additional  rto_d_fixed  \\\n",
      "0              28.3         31.9              38.9         41.3   \n",
      "\n",
      "   rto_d_additional  rto_e_fixed  rto_e_additional  \n",
      "0              44.8         50.7              55.5  \n",
      "The data has 1 columns and  20 rows\n",
      "---------------------------------------------------\n"
     ]
    }
   ],
   "source": [
    "# looking at the shape of the data\n",
    "\n",
    "for i in data:\n",
    "    #print(i)\n",
    "    print(f'The data has {i.shape[0]} columns and  {i.shape[1]} rows')\n",
    "    print('---------------------------------------------------')"
   ]
  },
  {
   "cell_type": "code",
   "execution_count": 32,
   "metadata": {},
   "outputs": [
    {
     "name": "stdout",
     "output_type": "stream",
     "text": [
      "124\n",
      "66\n",
      "124\n",
      "400\n",
      "1\n"
     ]
    }
   ],
   "source": [
    "for i in data:\n",
    "    print(i.shape[0])"
   ]
  },
  {
   "cell_type": "code",
   "execution_count": null,
   "metadata": {},
   "outputs": [],
   "source": []
  }
 ],
 "metadata": {
  "kernelspec": {
   "display_name": "base",
   "language": "python",
   "name": "python3"
  },
  "language_info": {
   "codemirror_mode": {
    "name": "ipython",
    "version": 3
   },
   "file_extension": ".py",
   "mimetype": "text/x-python",
   "name": "python",
   "nbconvert_exporter": "python",
   "pygments_lexer": "ipython3",
   "version": "3.10.9"
  },
  "orig_nbformat": 4
 },
 "nbformat": 4,
 "nbformat_minor": 2
}
